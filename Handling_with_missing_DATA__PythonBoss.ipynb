{
  "nbformat": 4,
  "nbformat_minor": 0,
  "metadata": {
    "kernelspec": {
      "display_name": "Python 3",
      "language": "python",
      "name": "python3"
    },
    "language_info": {
      "codemirror_mode": {
        "name": "ipython",
        "version": 3
      },
      "file_extension": ".py",
      "mimetype": "text/x-python",
      "name": "python",
      "nbconvert_exporter": "python",
      "pygments_lexer": "ipython3",
      "version": "3.7.6"
    },
    "colab": {
      "name": "Handling with missing DATA _PythonBoss.ipynb",
      "provenance": [],
      "collapsed_sections": [],
      "include_colab_link": true
    }
  },
  "cells": [
    {
      "cell_type": "markdown",
      "metadata": {
        "id": "view-in-github",
        "colab_type": "text"
      },
      "source": [
        "<a href=\"https://colab.research.google.com/github/connectkishan1/April20/blob/master/Handling_with_missing_DATA__PythonBoss.ipynb\" target=\"_parent\"><img src=\"https://colab.research.google.com/assets/colab-badge.svg\" alt=\"Open In Colab\"/></a>"
      ]
    },
    {
      "cell_type": "code",
      "metadata": {
        "id": "-TWROzwM16DZ",
        "colab_type": "code",
        "colab": {}
      },
      "source": [
        "import numpy as np\n",
        "import pandas as pd"
      ],
      "execution_count": null,
      "outputs": []
    },
    {
      "cell_type": "code",
      "metadata": {
        "id": "H3SULmcA16Dm",
        "colab_type": "code",
        "colab": {}
      },
      "source": [
        "df1=pd.DataFrame({\"Name\":[\"Shashi\",\"kishan\",\"Rahul\",\"Neeraj\",np.NaN,\"Sushant\"],\n",
        "                  \"Qualification\":[\"B.Tech\",np.NaN,\"BBA\",\"BCA\",\"MBA\",\"MCA\"],\n",
        "                  \"Roll No\":[11407,11408,np.NaN,11410,np.NaN,11234],\n",
        "                  \"Percentage\":[79.0,45,68,np.NaN,78,89]\n",
        "                 })"
      ],
      "execution_count": null,
      "outputs": []
    },
    {
      "cell_type": "code",
      "metadata": {
        "id": "ylR1_nfW16Dv",
        "colab_type": "code",
        "colab": {},
        "outputId": "4a98f77a-18a6-4629-a4e7-d82722be6ab9"
      },
      "source": [
        "print(df1)"
      ],
      "execution_count": null,
      "outputs": [
        {
          "output_type": "stream",
          "text": [
            "      Name Qualification  Roll No  Percentage\n",
            "0   Shashi        B.Tech  11407.0        79.0\n",
            "1   kishan           NaN  11408.0        45.0\n",
            "2    Rahul           BBA      NaN        68.0\n",
            "3   Neeraj           BCA  11410.0         NaN\n",
            "4      NaN           MBA      NaN        78.0\n",
            "5  Sushant           MCA  11234.0        89.0\n"
          ],
          "name": "stdout"
        }
      ]
    },
    {
      "cell_type": "code",
      "metadata": {
        "id": "rUr3q0Zl16D-",
        "colab_type": "code",
        "colab": {},
        "outputId": "dbf829cd-d2d1-4ce7-8151-11f147964448"
      },
      "source": [
        "df1.head(3)"
      ],
      "execution_count": null,
      "outputs": [
        {
          "output_type": "execute_result",
          "data": {
            "text/html": [
              "<div>\n",
              "<style scoped>\n",
              "    .dataframe tbody tr th:only-of-type {\n",
              "        vertical-align: middle;\n",
              "    }\n",
              "\n",
              "    .dataframe tbody tr th {\n",
              "        vertical-align: top;\n",
              "    }\n",
              "\n",
              "    .dataframe thead th {\n",
              "        text-align: right;\n",
              "    }\n",
              "</style>\n",
              "<table border=\"1\" class=\"dataframe\">\n",
              "  <thead>\n",
              "    <tr style=\"text-align: right;\">\n",
              "      <th></th>\n",
              "      <th>Name</th>\n",
              "      <th>Qualification</th>\n",
              "      <th>Roll No</th>\n",
              "      <th>Percentage</th>\n",
              "    </tr>\n",
              "  </thead>\n",
              "  <tbody>\n",
              "    <tr>\n",
              "      <th>0</th>\n",
              "      <td>Shashi</td>\n",
              "      <td>B.Tech</td>\n",
              "      <td>11407.0</td>\n",
              "      <td>79.0</td>\n",
              "    </tr>\n",
              "    <tr>\n",
              "      <th>1</th>\n",
              "      <td>kishan</td>\n",
              "      <td>NaN</td>\n",
              "      <td>11408.0</td>\n",
              "      <td>45.0</td>\n",
              "    </tr>\n",
              "    <tr>\n",
              "      <th>2</th>\n",
              "      <td>Rahul</td>\n",
              "      <td>BBA</td>\n",
              "      <td>NaN</td>\n",
              "      <td>68.0</td>\n",
              "    </tr>\n",
              "  </tbody>\n",
              "</table>\n",
              "</div>"
            ],
            "text/plain": [
              "     Name Qualification  Roll No  Percentage\n",
              "0  Shashi        B.Tech  11407.0        79.0\n",
              "1  kishan           NaN  11408.0        45.0\n",
              "2   Rahul           BBA      NaN        68.0"
            ]
          },
          "metadata": {
            "tags": []
          },
          "execution_count": 91
        }
      ]
    },
    {
      "cell_type": "code",
      "metadata": {
        "id": "mieVE50t16EK",
        "colab_type": "code",
        "colab": {},
        "outputId": "de9e491a-5175-4f61-8591-09e1315c3334"
      },
      "source": [
        "df1.transpose()"
      ],
      "execution_count": null,
      "outputs": [
        {
          "output_type": "execute_result",
          "data": {
            "text/html": [
              "<div>\n",
              "<style scoped>\n",
              "    .dataframe tbody tr th:only-of-type {\n",
              "        vertical-align: middle;\n",
              "    }\n",
              "\n",
              "    .dataframe tbody tr th {\n",
              "        vertical-align: top;\n",
              "    }\n",
              "\n",
              "    .dataframe thead th {\n",
              "        text-align: right;\n",
              "    }\n",
              "</style>\n",
              "<table border=\"1\" class=\"dataframe\">\n",
              "  <thead>\n",
              "    <tr style=\"text-align: right;\">\n",
              "      <th></th>\n",
              "      <th>0</th>\n",
              "      <th>1</th>\n",
              "      <th>2</th>\n",
              "      <th>3</th>\n",
              "      <th>4</th>\n",
              "      <th>5</th>\n",
              "    </tr>\n",
              "  </thead>\n",
              "  <tbody>\n",
              "    <tr>\n",
              "      <th>Name</th>\n",
              "      <td>Shashi</td>\n",
              "      <td>kishan</td>\n",
              "      <td>Rahul</td>\n",
              "      <td>Neeraj</td>\n",
              "      <td>NaN</td>\n",
              "      <td>Sushant</td>\n",
              "    </tr>\n",
              "    <tr>\n",
              "      <th>Qualification</th>\n",
              "      <td>B.Tech</td>\n",
              "      <td>NaN</td>\n",
              "      <td>BBA</td>\n",
              "      <td>BCA</td>\n",
              "      <td>MBA</td>\n",
              "      <td>MCA</td>\n",
              "    </tr>\n",
              "    <tr>\n",
              "      <th>Roll No</th>\n",
              "      <td>11407</td>\n",
              "      <td>11408</td>\n",
              "      <td>NaN</td>\n",
              "      <td>11410</td>\n",
              "      <td>NaN</td>\n",
              "      <td>11234</td>\n",
              "    </tr>\n",
              "    <tr>\n",
              "      <th>Percentage</th>\n",
              "      <td>79</td>\n",
              "      <td>45</td>\n",
              "      <td>68</td>\n",
              "      <td>NaN</td>\n",
              "      <td>78</td>\n",
              "      <td>89</td>\n",
              "    </tr>\n",
              "  </tbody>\n",
              "</table>\n",
              "</div>"
            ],
            "text/plain": [
              "                    0       1      2       3    4        5\n",
              "Name           Shashi  kishan  Rahul  Neeraj  NaN  Sushant\n",
              "Qualification  B.Tech     NaN    BBA     BCA  MBA      MCA\n",
              "Roll No         11407   11408    NaN   11410  NaN    11234\n",
              "Percentage         79      45     68     NaN   78       89"
            ]
          },
          "metadata": {
            "tags": []
          },
          "execution_count": 92
        }
      ]
    },
    {
      "cell_type": "code",
      "metadata": {
        "id": "glPMavz916EV",
        "colab_type": "code",
        "colab": {},
        "outputId": "e2c1bdd3-3757-44e3-e6a4-ceb76ba19c77"
      },
      "source": [
        "df1.shape"
      ],
      "execution_count": null,
      "outputs": [
        {
          "output_type": "execute_result",
          "data": {
            "text/plain": [
              "(6, 4)"
            ]
          },
          "metadata": {
            "tags": []
          },
          "execution_count": 93
        }
      ]
    },
    {
      "cell_type": "code",
      "metadata": {
        "id": "IzNNgJrz16Ed",
        "colab_type": "code",
        "colab": {},
        "outputId": "23cd2c90-6a1d-479d-9e28-4beaa0c73311"
      },
      "source": [
        "df1.size"
      ],
      "execution_count": null,
      "outputs": [
        {
          "output_type": "execute_result",
          "data": {
            "text/plain": [
              "24"
            ]
          },
          "metadata": {
            "tags": []
          },
          "execution_count": 94
        }
      ]
    },
    {
      "cell_type": "code",
      "metadata": {
        "id": "KMPQfXA716Er",
        "colab_type": "code",
        "colab": {},
        "outputId": "b405d607-775a-4d10-d9df-a10a1df1382d"
      },
      "source": [
        "np.sum(df1.isnull())"
      ],
      "execution_count": null,
      "outputs": [
        {
          "output_type": "execute_result",
          "data": {
            "text/plain": [
              "Name             1\n",
              "Qualification    1\n",
              "Roll No          2\n",
              "Percentage       1\n",
              "dtype: int64"
            ]
          },
          "metadata": {
            "tags": []
          },
          "execution_count": 95
        }
      ]
    },
    {
      "cell_type": "code",
      "metadata": {
        "id": "rjestO6d16E7",
        "colab_type": "code",
        "colab": {},
        "outputId": "fee8aa45-5cd7-4a5d-f1c4-a2ee9f927314"
      },
      "source": [
        "np.sum(df1[\"Roll No\"].isnull())"
      ],
      "execution_count": null,
      "outputs": [
        {
          "output_type": "execute_result",
          "data": {
            "text/plain": [
              "2"
            ]
          },
          "metadata": {
            "tags": []
          },
          "execution_count": 96
        }
      ]
    },
    {
      "cell_type": "code",
      "metadata": {
        "id": "dtRvbfQC16FH",
        "colab_type": "code",
        "colab": {},
        "outputId": "011b745f-dbc5-4732-c265-8b6895b82ed1"
      },
      "source": [
        "df1.shape"
      ],
      "execution_count": null,
      "outputs": [
        {
          "output_type": "execute_result",
          "data": {
            "text/plain": [
              "(6, 4)"
            ]
          },
          "metadata": {
            "tags": []
          },
          "execution_count": 97
        }
      ]
    },
    {
      "cell_type": "code",
      "metadata": {
        "id": "kkp6Ogpk16FR",
        "colab_type": "code",
        "colab": {},
        "outputId": "9a147f03-8fb1-43bd-9648-d5c1a9564ed0"
      },
      "source": [
        "df1"
      ],
      "execution_count": null,
      "outputs": [
        {
          "output_type": "execute_result",
          "data": {
            "text/html": [
              "<div>\n",
              "<style scoped>\n",
              "    .dataframe tbody tr th:only-of-type {\n",
              "        vertical-align: middle;\n",
              "    }\n",
              "\n",
              "    .dataframe tbody tr th {\n",
              "        vertical-align: top;\n",
              "    }\n",
              "\n",
              "    .dataframe thead th {\n",
              "        text-align: right;\n",
              "    }\n",
              "</style>\n",
              "<table border=\"1\" class=\"dataframe\">\n",
              "  <thead>\n",
              "    <tr style=\"text-align: right;\">\n",
              "      <th></th>\n",
              "      <th>Name</th>\n",
              "      <th>Qualification</th>\n",
              "      <th>Roll No</th>\n",
              "      <th>Percentage</th>\n",
              "    </tr>\n",
              "  </thead>\n",
              "  <tbody>\n",
              "    <tr>\n",
              "      <th>0</th>\n",
              "      <td>Shashi</td>\n",
              "      <td>B.Tech</td>\n",
              "      <td>11407.0</td>\n",
              "      <td>79.0</td>\n",
              "    </tr>\n",
              "    <tr>\n",
              "      <th>1</th>\n",
              "      <td>kishan</td>\n",
              "      <td>NaN</td>\n",
              "      <td>11408.0</td>\n",
              "      <td>45.0</td>\n",
              "    </tr>\n",
              "    <tr>\n",
              "      <th>2</th>\n",
              "      <td>Rahul</td>\n",
              "      <td>BBA</td>\n",
              "      <td>NaN</td>\n",
              "      <td>68.0</td>\n",
              "    </tr>\n",
              "    <tr>\n",
              "      <th>3</th>\n",
              "      <td>Neeraj</td>\n",
              "      <td>BCA</td>\n",
              "      <td>11410.0</td>\n",
              "      <td>NaN</td>\n",
              "    </tr>\n",
              "    <tr>\n",
              "      <th>4</th>\n",
              "      <td>NaN</td>\n",
              "      <td>MBA</td>\n",
              "      <td>NaN</td>\n",
              "      <td>78.0</td>\n",
              "    </tr>\n",
              "    <tr>\n",
              "      <th>5</th>\n",
              "      <td>Sushant</td>\n",
              "      <td>MCA</td>\n",
              "      <td>11234.0</td>\n",
              "      <td>89.0</td>\n",
              "    </tr>\n",
              "  </tbody>\n",
              "</table>\n",
              "</div>"
            ],
            "text/plain": [
              "      Name Qualification  Roll No  Percentage\n",
              "0   Shashi        B.Tech  11407.0        79.0\n",
              "1   kishan           NaN  11408.0        45.0\n",
              "2    Rahul           BBA      NaN        68.0\n",
              "3   Neeraj           BCA  11410.0         NaN\n",
              "4      NaN           MBA      NaN        78.0\n",
              "5  Sushant           MCA  11234.0        89.0"
            ]
          },
          "metadata": {
            "tags": []
          },
          "execution_count": 98
        }
      ]
    },
    {
      "cell_type": "code",
      "metadata": {
        "id": "T4zKbXch16FZ",
        "colab_type": "code",
        "colab": {},
        "outputId": "57811ceb-972d-4aae-aa1f-38c507dfdfe5"
      },
      "source": [
        " np.sum(np.sum(df1.isnull())/df1.shape[0]>.20) #to find the no of columns with more than 10% of data missing"
      ],
      "execution_count": null,
      "outputs": [
        {
          "output_type": "execute_result",
          "data": {
            "text/plain": [
              "1"
            ]
          },
          "metadata": {
            "tags": []
          },
          "execution_count": 99
        }
      ]
    },
    {
      "cell_type": "code",
      "metadata": {
        "id": "tRuI1pW916Fg",
        "colab_type": "code",
        "colab": {},
        "outputId": "ac0b85dc-7c31-4693-88f4-f6a26665219c"
      },
      "source": [
        "df1[\"Roll No\"].shape"
      ],
      "execution_count": null,
      "outputs": [
        {
          "output_type": "execute_result",
          "data": {
            "text/plain": [
              "(6,)"
            ]
          },
          "metadata": {
            "tags": []
          },
          "execution_count": 118
        }
      ]
    },
    {
      "cell_type": "code",
      "metadata": {
        "id": "wJvqTRk716Fo",
        "colab_type": "code",
        "colab": {},
        "outputId": "9135b8c1-7655-41de-bb32-e228c924e45f"
      },
      "source": [
        "np.sum(df1[[\"Roll No\",\"Percentage\"]].isnull())/df1[[\"Roll No\",\"Percentage\"]].shape[0]*100"
      ],
      "execution_count": null,
      "outputs": [
        {
          "output_type": "execute_result",
          "data": {
            "text/plain": [
              "Roll No       33.333333\n",
              "Percentage    16.666667\n",
              "dtype: float64"
            ]
          },
          "metadata": {
            "tags": []
          },
          "execution_count": 122
        }
      ]
    },
    {
      "cell_type": "code",
      "metadata": {
        "id": "gt46qvSy16F3",
        "colab_type": "code",
        "colab": {},
        "outputId": "ab1cb184-a28f-41b3-b7ac-32a91d7f96bf"
      },
      "source": [
        "np.sum(df1.isnull())/df1.shape[0]*100"
      ],
      "execution_count": null,
      "outputs": [
        {
          "output_type": "execute_result",
          "data": {
            "text/plain": [
              "Name             16.666667\n",
              "Qualification    16.666667\n",
              "Roll No          33.333333\n",
              "Percentage       16.666667\n",
              "dtype: float64"
            ]
          },
          "metadata": {
            "tags": []
          },
          "execution_count": 123
        }
      ]
    },
    {
      "cell_type": "code",
      "metadata": {
        "id": "bbjWh41i16F_",
        "colab_type": "code",
        "colab": {},
        "outputId": "5eac7046-44a7-4b41-fda6-a4820b506604"
      },
      "source": [
        "df1.dropna(axis=1)"
      ],
      "execution_count": null,
      "outputs": [
        {
          "output_type": "execute_result",
          "data": {
            "text/html": [
              "<div>\n",
              "<style scoped>\n",
              "    .dataframe tbody tr th:only-of-type {\n",
              "        vertical-align: middle;\n",
              "    }\n",
              "\n",
              "    .dataframe tbody tr th {\n",
              "        vertical-align: top;\n",
              "    }\n",
              "\n",
              "    .dataframe thead th {\n",
              "        text-align: right;\n",
              "    }\n",
              "</style>\n",
              "<table border=\"1\" class=\"dataframe\">\n",
              "  <thead>\n",
              "    <tr style=\"text-align: right;\">\n",
              "      <th></th>\n",
              "    </tr>\n",
              "  </thead>\n",
              "  <tbody>\n",
              "    <tr>\n",
              "      <th>0</th>\n",
              "    </tr>\n",
              "    <tr>\n",
              "      <th>1</th>\n",
              "    </tr>\n",
              "    <tr>\n",
              "      <th>2</th>\n",
              "    </tr>\n",
              "    <tr>\n",
              "      <th>3</th>\n",
              "    </tr>\n",
              "    <tr>\n",
              "      <th>4</th>\n",
              "    </tr>\n",
              "    <tr>\n",
              "      <th>5</th>\n",
              "    </tr>\n",
              "  </tbody>\n",
              "</table>\n",
              "</div>"
            ],
            "text/plain": [
              "Empty DataFrame\n",
              "Columns: []\n",
              "Index: [0, 1, 2, 3, 4, 5]"
            ]
          },
          "metadata": {
            "tags": []
          },
          "execution_count": 149
        }
      ]
    },
    {
      "cell_type": "code",
      "metadata": {
        "id": "lIdkIFIO16GH",
        "colab_type": "code",
        "colab": {},
        "outputId": "c44bc68a-4eb1-4fe6-ad89-03132dfd8ffa"
      },
      "source": [
        "df1[\"Percentage\"].fillna(df1[\"Percentage\"].median())"
      ],
      "execution_count": null,
      "outputs": [
        {
          "output_type": "execute_result",
          "data": {
            "text/plain": [
              "0    79.0\n",
              "1    45.0\n",
              "2    68.0\n",
              "3    78.0\n",
              "4    78.0\n",
              "5    89.0\n",
              "Name: Percentage, dtype: float64"
            ]
          },
          "metadata": {
            "tags": []
          },
          "execution_count": 155
        }
      ]
    },
    {
      "cell_type": "code",
      "metadata": {
        "id": "q5pcJ9F316GS",
        "colab_type": "code",
        "colab": {},
        "outputId": "397dfbee-92f5-4cfd-d0c2-4b8de8d62b66"
      },
      "source": [
        "np.sum(df1[\"Percentage\"].isnull())/df1[\"Percentage\"].shape*100"
      ],
      "execution_count": null,
      "outputs": [
        {
          "output_type": "execute_result",
          "data": {
            "text/plain": [
              "array([16.66666667])"
            ]
          },
          "metadata": {
            "tags": []
          },
          "execution_count": 83
        }
      ]
    },
    {
      "cell_type": "code",
      "metadata": {
        "id": "kNKi72wK16Gi",
        "colab_type": "code",
        "colab": {},
        "outputId": "da92d175-0ad6-4d4b-faa1-cba986e2bedd"
      },
      "source": [
        "set(df1.columns[df1.isnull().mean()>0.20])"
      ],
      "execution_count": null,
      "outputs": [
        {
          "output_type": "execute_result",
          "data": {
            "text/plain": [
              "{'Roll No'}"
            ]
          },
          "metadata": {
            "tags": []
          },
          "execution_count": 38
        }
      ]
    },
    {
      "cell_type": "code",
      "metadata": {
        "id": "7qKp4Dva16G0",
        "colab_type": "code",
        "colab": {},
        "outputId": "2c801d32-f5c0-4a12-a7f6-cd1b4bea9c52"
      },
      "source": [
        "df1[\"Roll No\"].isna().count"
      ],
      "execution_count": null,
      "outputs": [
        {
          "output_type": "execute_result",
          "data": {
            "text/plain": [
              "<bound method Series.count of 0    False\n",
              "1    False\n",
              "2     True\n",
              "3    False\n",
              "4     True\n",
              "5    False\n",
              "Name: Roll No, dtype: bool>"
            ]
          },
          "metadata": {
            "tags": []
          },
          "execution_count": 39
        }
      ]
    },
    {
      "cell_type": "code",
      "metadata": {
        "id": "sAzUvcUM16G_",
        "colab_type": "code",
        "colab": {}
      },
      "source": [
        ""
      ],
      "execution_count": null,
      "outputs": []
    },
    {
      "cell_type": "code",
      "metadata": {
        "id": "3esbwjHZ16HQ",
        "colab_type": "code",
        "colab": {},
        "outputId": "dc784326-c7b3-4777-891f-41d9272e5186"
      },
      "source": [
        "df1.count()"
      ],
      "execution_count": null,
      "outputs": [
        {
          "output_type": "execute_result",
          "data": {
            "text/plain": [
              "Name             5\n",
              "Qualification    5\n",
              "Roll No          4\n",
              "Percentage       5\n",
              "dtype: int64"
            ]
          },
          "metadata": {
            "tags": []
          },
          "execution_count": 40
        }
      ]
    },
    {
      "cell_type": "code",
      "metadata": {
        "id": "s0mF-cm016HX",
        "colab_type": "code",
        "colab": {},
        "outputId": "58efc216-f487-4a1a-eb51-0faccd3dcbf7"
      },
      "source": [
        "df1"
      ],
      "execution_count": null,
      "outputs": [
        {
          "output_type": "execute_result",
          "data": {
            "text/html": [
              "<div>\n",
              "<style scoped>\n",
              "    .dataframe tbody tr th:only-of-type {\n",
              "        vertical-align: middle;\n",
              "    }\n",
              "\n",
              "    .dataframe tbody tr th {\n",
              "        vertical-align: top;\n",
              "    }\n",
              "\n",
              "    .dataframe thead th {\n",
              "        text-align: right;\n",
              "    }\n",
              "</style>\n",
              "<table border=\"1\" class=\"dataframe\">\n",
              "  <thead>\n",
              "    <tr style=\"text-align: right;\">\n",
              "      <th></th>\n",
              "      <th>Name</th>\n",
              "      <th>Qualification</th>\n",
              "      <th>Roll No</th>\n",
              "      <th>Percentage</th>\n",
              "    </tr>\n",
              "  </thead>\n",
              "  <tbody>\n",
              "    <tr>\n",
              "      <th>0</th>\n",
              "      <td>Shashi</td>\n",
              "      <td>B.Tech</td>\n",
              "      <td>11407.0</td>\n",
              "      <td>79.0</td>\n",
              "    </tr>\n",
              "    <tr>\n",
              "      <th>1</th>\n",
              "      <td>kishan</td>\n",
              "      <td>NaN</td>\n",
              "      <td>11408.0</td>\n",
              "      <td>45.0</td>\n",
              "    </tr>\n",
              "    <tr>\n",
              "      <th>2</th>\n",
              "      <td>Rahul</td>\n",
              "      <td>BBA</td>\n",
              "      <td>NaN</td>\n",
              "      <td>68.0</td>\n",
              "    </tr>\n",
              "    <tr>\n",
              "      <th>3</th>\n",
              "      <td>Neeraj</td>\n",
              "      <td>BCA</td>\n",
              "      <td>11410.0</td>\n",
              "      <td>NaN</td>\n",
              "    </tr>\n",
              "    <tr>\n",
              "      <th>4</th>\n",
              "      <td>NaN</td>\n",
              "      <td>MBA</td>\n",
              "      <td>NaN</td>\n",
              "      <td>78.0</td>\n",
              "    </tr>\n",
              "    <tr>\n",
              "      <th>5</th>\n",
              "      <td>Sushant</td>\n",
              "      <td>MCA</td>\n",
              "      <td>11234.0</td>\n",
              "      <td>89.0</td>\n",
              "    </tr>\n",
              "  </tbody>\n",
              "</table>\n",
              "</div>"
            ],
            "text/plain": [
              "      Name Qualification  Roll No  Percentage\n",
              "0   Shashi        B.Tech  11407.0        79.0\n",
              "1   kishan           NaN  11408.0        45.0\n",
              "2    Rahul           BBA      NaN        68.0\n",
              "3   Neeraj           BCA  11410.0         NaN\n",
              "4      NaN           MBA      NaN        78.0\n",
              "5  Sushant           MCA  11234.0        89.0"
            ]
          },
          "metadata": {
            "tags": []
          },
          "execution_count": 41
        }
      ]
    },
    {
      "cell_type": "code",
      "metadata": {
        "id": "JduEMvtv16He",
        "colab_type": "code",
        "colab": {},
        "outputId": "1212e60c-d363-4c32-ffd6-3be41f23fd6a"
      },
      "source": [
        "df1.isna().any()"
      ],
      "execution_count": null,
      "outputs": [
        {
          "output_type": "execute_result",
          "data": {
            "text/plain": [
              "Name             True\n",
              "Qualification    True\n",
              "Roll No          True\n",
              "Percentage       True\n",
              "dtype: bool"
            ]
          },
          "metadata": {
            "tags": []
          },
          "execution_count": 42
        }
      ]
    },
    {
      "cell_type": "code",
      "metadata": {
        "id": "naiZOKoz16Ho",
        "colab_type": "code",
        "colab": {},
        "outputId": "ebed6a7b-3dd3-4562-e89b-365140e876d3"
      },
      "source": [
        "df1.dropna()"
      ],
      "execution_count": null,
      "outputs": [
        {
          "output_type": "execute_result",
          "data": {
            "text/html": [
              "<div>\n",
              "<style scoped>\n",
              "    .dataframe tbody tr th:only-of-type {\n",
              "        vertical-align: middle;\n",
              "    }\n",
              "\n",
              "    .dataframe tbody tr th {\n",
              "        vertical-align: top;\n",
              "    }\n",
              "\n",
              "    .dataframe thead th {\n",
              "        text-align: right;\n",
              "    }\n",
              "</style>\n",
              "<table border=\"1\" class=\"dataframe\">\n",
              "  <thead>\n",
              "    <tr style=\"text-align: right;\">\n",
              "      <th></th>\n",
              "      <th>Name</th>\n",
              "      <th>Qualification</th>\n",
              "      <th>Roll No</th>\n",
              "      <th>Percentage</th>\n",
              "    </tr>\n",
              "  </thead>\n",
              "  <tbody>\n",
              "    <tr>\n",
              "      <th>0</th>\n",
              "      <td>Shashi</td>\n",
              "      <td>B.Tech</td>\n",
              "      <td>11407.0</td>\n",
              "      <td>79.0</td>\n",
              "    </tr>\n",
              "    <tr>\n",
              "      <th>5</th>\n",
              "      <td>Sushant</td>\n",
              "      <td>MCA</td>\n",
              "      <td>11234.0</td>\n",
              "      <td>89.0</td>\n",
              "    </tr>\n",
              "  </tbody>\n",
              "</table>\n",
              "</div>"
            ],
            "text/plain": [
              "      Name Qualification  Roll No  Percentage\n",
              "0   Shashi        B.Tech  11407.0        79.0\n",
              "5  Sushant           MCA  11234.0        89.0"
            ]
          },
          "metadata": {
            "tags": []
          },
          "execution_count": 43
        }
      ]
    },
    {
      "cell_type": "code",
      "metadata": {
        "id": "R2nwHC6Z16H5",
        "colab_type": "code",
        "colab": {},
        "outputId": "26ca623c-60f1-4ccf-f44b-68d21211dbda"
      },
      "source": [
        "df1.dropna(axis=0)"
      ],
      "execution_count": null,
      "outputs": [
        {
          "output_type": "execute_result",
          "data": {
            "text/html": [
              "<div>\n",
              "<style scoped>\n",
              "    .dataframe tbody tr th:only-of-type {\n",
              "        vertical-align: middle;\n",
              "    }\n",
              "\n",
              "    .dataframe tbody tr th {\n",
              "        vertical-align: top;\n",
              "    }\n",
              "\n",
              "    .dataframe thead th {\n",
              "        text-align: right;\n",
              "    }\n",
              "</style>\n",
              "<table border=\"1\" class=\"dataframe\">\n",
              "  <thead>\n",
              "    <tr style=\"text-align: right;\">\n",
              "      <th></th>\n",
              "      <th>Name</th>\n",
              "      <th>Qualification</th>\n",
              "      <th>Roll No</th>\n",
              "      <th>Percentage</th>\n",
              "    </tr>\n",
              "  </thead>\n",
              "  <tbody>\n",
              "    <tr>\n",
              "      <th>0</th>\n",
              "      <td>Shashi</td>\n",
              "      <td>B.Tech</td>\n",
              "      <td>11407.0</td>\n",
              "      <td>79.0</td>\n",
              "    </tr>\n",
              "    <tr>\n",
              "      <th>5</th>\n",
              "      <td>Sushant</td>\n",
              "      <td>MCA</td>\n",
              "      <td>11234.0</td>\n",
              "      <td>89.0</td>\n",
              "    </tr>\n",
              "  </tbody>\n",
              "</table>\n",
              "</div>"
            ],
            "text/plain": [
              "      Name Qualification  Roll No  Percentage\n",
              "0   Shashi        B.Tech  11407.0        79.0\n",
              "5  Sushant           MCA  11234.0        89.0"
            ]
          },
          "metadata": {
            "tags": []
          },
          "execution_count": 44
        }
      ]
    },
    {
      "cell_type": "code",
      "metadata": {
        "id": "42h1KIzx16IB",
        "colab_type": "code",
        "colab": {},
        "outputId": "de17927a-b060-4679-dbf1-07edcd93cdfc"
      },
      "source": [
        "df1.dropna(axis=0)"
      ],
      "execution_count": null,
      "outputs": [
        {
          "output_type": "execute_result",
          "data": {
            "text/html": [
              "<div>\n",
              "<style scoped>\n",
              "    .dataframe tbody tr th:only-of-type {\n",
              "        vertical-align: middle;\n",
              "    }\n",
              "\n",
              "    .dataframe tbody tr th {\n",
              "        vertical-align: top;\n",
              "    }\n",
              "\n",
              "    .dataframe thead th {\n",
              "        text-align: right;\n",
              "    }\n",
              "</style>\n",
              "<table border=\"1\" class=\"dataframe\">\n",
              "  <thead>\n",
              "    <tr style=\"text-align: right;\">\n",
              "      <th></th>\n",
              "      <th>Name</th>\n",
              "      <th>Qualification</th>\n",
              "      <th>Roll No</th>\n",
              "      <th>Percentage</th>\n",
              "    </tr>\n",
              "  </thead>\n",
              "  <tbody>\n",
              "    <tr>\n",
              "      <th>0</th>\n",
              "      <td>Shashi</td>\n",
              "      <td>B.Tech</td>\n",
              "      <td>11407.0</td>\n",
              "      <td>79.0</td>\n",
              "    </tr>\n",
              "    <tr>\n",
              "      <th>5</th>\n",
              "      <td>Sushant</td>\n",
              "      <td>MCA</td>\n",
              "      <td>11234.0</td>\n",
              "      <td>89.0</td>\n",
              "    </tr>\n",
              "  </tbody>\n",
              "</table>\n",
              "</div>"
            ],
            "text/plain": [
              "      Name Qualification  Roll No  Percentage\n",
              "0   Shashi        B.Tech  11407.0        79.0\n",
              "5  Sushant           MCA  11234.0        89.0"
            ]
          },
          "metadata": {
            "tags": []
          },
          "execution_count": 45
        }
      ]
    },
    {
      "cell_type": "code",
      "metadata": {
        "id": "i5QIDt3u16IK",
        "colab_type": "code",
        "colab": {},
        "outputId": "efe34285-0b26-41b0-ffd5-ab96f6eb3183"
      },
      "source": [
        "df1.dropna(axis=1)"
      ],
      "execution_count": null,
      "outputs": [
        {
          "output_type": "execute_result",
          "data": {
            "text/html": [
              "<div>\n",
              "<style scoped>\n",
              "    .dataframe tbody tr th:only-of-type {\n",
              "        vertical-align: middle;\n",
              "    }\n",
              "\n",
              "    .dataframe tbody tr th {\n",
              "        vertical-align: top;\n",
              "    }\n",
              "\n",
              "    .dataframe thead th {\n",
              "        text-align: right;\n",
              "    }\n",
              "</style>\n",
              "<table border=\"1\" class=\"dataframe\">\n",
              "  <thead>\n",
              "    <tr style=\"text-align: right;\">\n",
              "      <th></th>\n",
              "    </tr>\n",
              "  </thead>\n",
              "  <tbody>\n",
              "    <tr>\n",
              "      <th>0</th>\n",
              "    </tr>\n",
              "    <tr>\n",
              "      <th>1</th>\n",
              "    </tr>\n",
              "    <tr>\n",
              "      <th>2</th>\n",
              "    </tr>\n",
              "    <tr>\n",
              "      <th>3</th>\n",
              "    </tr>\n",
              "    <tr>\n",
              "      <th>4</th>\n",
              "    </tr>\n",
              "    <tr>\n",
              "      <th>5</th>\n",
              "    </tr>\n",
              "  </tbody>\n",
              "</table>\n",
              "</div>"
            ],
            "text/plain": [
              "Empty DataFrame\n",
              "Columns: []\n",
              "Index: [0, 1, 2, 3, 4, 5]"
            ]
          },
          "metadata": {
            "tags": []
          },
          "execution_count": 46
        }
      ]
    },
    {
      "cell_type": "code",
      "metadata": {
        "id": "DsGl7Kqv16IT",
        "colab_type": "code",
        "colab": {},
        "outputId": "510959f6-c436-4c2f-e2fb-25e1eeef7849"
      },
      "source": [
        "df1.dropna(thresh=1)"
      ],
      "execution_count": null,
      "outputs": [
        {
          "output_type": "execute_result",
          "data": {
            "text/html": [
              "<div>\n",
              "<style scoped>\n",
              "    .dataframe tbody tr th:only-of-type {\n",
              "        vertical-align: middle;\n",
              "    }\n",
              "\n",
              "    .dataframe tbody tr th {\n",
              "        vertical-align: top;\n",
              "    }\n",
              "\n",
              "    .dataframe thead th {\n",
              "        text-align: right;\n",
              "    }\n",
              "</style>\n",
              "<table border=\"1\" class=\"dataframe\">\n",
              "  <thead>\n",
              "    <tr style=\"text-align: right;\">\n",
              "      <th></th>\n",
              "      <th>Name</th>\n",
              "      <th>Qualification</th>\n",
              "      <th>Roll No</th>\n",
              "      <th>Percentage</th>\n",
              "    </tr>\n",
              "  </thead>\n",
              "  <tbody>\n",
              "    <tr>\n",
              "      <th>0</th>\n",
              "      <td>Shashi</td>\n",
              "      <td>B.Tech</td>\n",
              "      <td>11407.0</td>\n",
              "      <td>79.0</td>\n",
              "    </tr>\n",
              "    <tr>\n",
              "      <th>1</th>\n",
              "      <td>kishan</td>\n",
              "      <td>NaN</td>\n",
              "      <td>11408.0</td>\n",
              "      <td>45.0</td>\n",
              "    </tr>\n",
              "    <tr>\n",
              "      <th>2</th>\n",
              "      <td>Rahul</td>\n",
              "      <td>BBA</td>\n",
              "      <td>NaN</td>\n",
              "      <td>68.0</td>\n",
              "    </tr>\n",
              "    <tr>\n",
              "      <th>3</th>\n",
              "      <td>Neeraj</td>\n",
              "      <td>BCA</td>\n",
              "      <td>11410.0</td>\n",
              "      <td>NaN</td>\n",
              "    </tr>\n",
              "    <tr>\n",
              "      <th>4</th>\n",
              "      <td>NaN</td>\n",
              "      <td>MBA</td>\n",
              "      <td>NaN</td>\n",
              "      <td>78.0</td>\n",
              "    </tr>\n",
              "    <tr>\n",
              "      <th>5</th>\n",
              "      <td>Sushant</td>\n",
              "      <td>MCA</td>\n",
              "      <td>11234.0</td>\n",
              "      <td>89.0</td>\n",
              "    </tr>\n",
              "  </tbody>\n",
              "</table>\n",
              "</div>"
            ],
            "text/plain": [
              "      Name Qualification  Roll No  Percentage\n",
              "0   Shashi        B.Tech  11407.0        79.0\n",
              "1   kishan           NaN  11408.0        45.0\n",
              "2    Rahul           BBA      NaN        68.0\n",
              "3   Neeraj           BCA  11410.0         NaN\n",
              "4      NaN           MBA      NaN        78.0\n",
              "5  Sushant           MCA  11234.0        89.0"
            ]
          },
          "metadata": {
            "tags": []
          },
          "execution_count": 47
        }
      ]
    },
    {
      "cell_type": "code",
      "metadata": {
        "id": "0QsskP1j16Ic",
        "colab_type": "code",
        "colab": {},
        "outputId": "b1effb28-2917-4476-902f-66d19bc2e956"
      },
      "source": [
        "df1.fillna(value='DEFAULT')"
      ],
      "execution_count": null,
      "outputs": [
        {
          "output_type": "execute_result",
          "data": {
            "text/html": [
              "<div>\n",
              "<style scoped>\n",
              "    .dataframe tbody tr th:only-of-type {\n",
              "        vertical-align: middle;\n",
              "    }\n",
              "\n",
              "    .dataframe tbody tr th {\n",
              "        vertical-align: top;\n",
              "    }\n",
              "\n",
              "    .dataframe thead th {\n",
              "        text-align: right;\n",
              "    }\n",
              "</style>\n",
              "<table border=\"1\" class=\"dataframe\">\n",
              "  <thead>\n",
              "    <tr style=\"text-align: right;\">\n",
              "      <th></th>\n",
              "      <th>Name</th>\n",
              "      <th>Qualification</th>\n",
              "      <th>Roll No</th>\n",
              "      <th>Percentage</th>\n",
              "    </tr>\n",
              "  </thead>\n",
              "  <tbody>\n",
              "    <tr>\n",
              "      <th>0</th>\n",
              "      <td>Shashi</td>\n",
              "      <td>B.Tech</td>\n",
              "      <td>11407</td>\n",
              "      <td>79</td>\n",
              "    </tr>\n",
              "    <tr>\n",
              "      <th>1</th>\n",
              "      <td>kishan</td>\n",
              "      <td>DEFAULT</td>\n",
              "      <td>11408</td>\n",
              "      <td>45</td>\n",
              "    </tr>\n",
              "    <tr>\n",
              "      <th>2</th>\n",
              "      <td>Rahul</td>\n",
              "      <td>BBA</td>\n",
              "      <td>DEFAULT</td>\n",
              "      <td>68</td>\n",
              "    </tr>\n",
              "    <tr>\n",
              "      <th>3</th>\n",
              "      <td>Neeraj</td>\n",
              "      <td>BCA</td>\n",
              "      <td>11410</td>\n",
              "      <td>DEFAULT</td>\n",
              "    </tr>\n",
              "    <tr>\n",
              "      <th>4</th>\n",
              "      <td>DEFAULT</td>\n",
              "      <td>MBA</td>\n",
              "      <td>DEFAULT</td>\n",
              "      <td>78</td>\n",
              "    </tr>\n",
              "    <tr>\n",
              "      <th>5</th>\n",
              "      <td>Sushant</td>\n",
              "      <td>MCA</td>\n",
              "      <td>11234</td>\n",
              "      <td>89</td>\n",
              "    </tr>\n",
              "  </tbody>\n",
              "</table>\n",
              "</div>"
            ],
            "text/plain": [
              "      Name Qualification  Roll No Percentage\n",
              "0   Shashi        B.Tech    11407         79\n",
              "1   kishan       DEFAULT    11408         45\n",
              "2    Rahul           BBA  DEFAULT         68\n",
              "3   Neeraj           BCA    11410    DEFAULT\n",
              "4  DEFAULT           MBA  DEFAULT         78\n",
              "5  Sushant           MCA    11234         89"
            ]
          },
          "metadata": {
            "tags": []
          },
          "execution_count": 48
        }
      ]
    },
    {
      "cell_type": "code",
      "metadata": {
        "id": "tKyLtXbz16Il",
        "colab_type": "code",
        "colab": {},
        "outputId": "ac3b09f0-7cfe-414c-b826-89fdcd7b8237"
      },
      "source": [
        "df1['Roll No'].fillna(value=df1['Roll No'].mean())"
      ],
      "execution_count": null,
      "outputs": [
        {
          "output_type": "execute_result",
          "data": {
            "text/plain": [
              "0    11407.00\n",
              "1    11408.00\n",
              "2    11364.75\n",
              "3    11410.00\n",
              "4    11364.75\n",
              "5    11234.00\n",
              "Name: Roll No, dtype: float64"
            ]
          },
          "metadata": {
            "tags": []
          },
          "execution_count": 49
        }
      ]
    },
    {
      "cell_type": "code",
      "metadata": {
        "id": "XmC5zjU216Ix",
        "colab_type": "code",
        "colab": {}
      },
      "source": [
        ""
      ],
      "execution_count": null,
      "outputs": []
    },
    {
      "cell_type": "code",
      "metadata": {
        "id": "1xslGdoX16I6",
        "colab_type": "code",
        "colab": {}
      },
      "source": [
        ""
      ],
      "execution_count": null,
      "outputs": []
    },
    {
      "cell_type": "code",
      "metadata": {
        "id": "mrInmgrg16JF",
        "colab_type": "code",
        "colab": {}
      },
      "source": [
        ""
      ],
      "execution_count": null,
      "outputs": []
    },
    {
      "cell_type": "code",
      "metadata": {
        "id": "wWAxpYcG16JO",
        "colab_type": "code",
        "colab": {}
      },
      "source": [
        ""
      ],
      "execution_count": null,
      "outputs": []
    }
  ]
}